{
 "cells": [
  {
   "cell_type": "code",
   "execution_count": 2,
   "metadata": {},
   "outputs": [],
   "source": [
    "import pandas as pd\n",
    "import os"
   ]
  },
  {
   "cell_type": "code",
   "execution_count": 4,
   "metadata": {},
   "outputs": [],
   "source": [
    "products = pd.read_csv(\"./d_bemol/datasets/olist_products_dataset.csv\")\n",
    "\n",
    "items = pd.read_csv(\"./d_bemol/datasets/olist_order_items_dataset.csv\")\n",
    "\n",
    "orders = pd.read_csv(\"./d_bemol/datasets/olist_orders_dataset.csv\")\n",
    "\n",
    "payments = pd.read_csv(\"./d_bemol/datasets/olist_order_payments_dataset.csv\")\n",
    "\n",
    "reviews = pd.read_csv(\"./d_bemol/datasets/olist_order_reviews_dataset.csv\")\n",
    "\n",
    "customer = pd.read_csv(\"./d_bemol/datasets/olist_customers_dataset.csv\")\n",
    "\n",
    "sellers = pd.read_csv(\"./d_bemol/datasets/olist_sellers_dataset.csv\")\n",
    "\n",
    "geoloc = pd.read_csv(\"./d_bemol/datasets/olist_geolocation_dataset.csv\")\n"
   ]
  },
  {
   "cell_type": "code",
   "execution_count": null,
   "metadata": {},
   "outputs": [],
   "source": []
  },
  {
   "cell_type": "code",
   "execution_count": 20,
   "metadata": {},
   "outputs": [],
   "source": [
    "#Removendo linhas em branco\n",
    "def delete_rows_nda(dataframe):\n",
    "    return dataframe.dropna()"
   ]
  },
  {
   "cell_type": "code",
   "execution_count": null,
   "metadata": {},
   "outputs": [],
   "source": []
  }
 ],
 "metadata": {
  "kernelspec": {
   "display_name": "Python 3",
   "language": "python",
   "name": "python3"
  },
  "language_info": {
   "codemirror_mode": {
    "name": "ipython",
    "version": 3
   },
   "file_extension": ".py",
   "mimetype": "text/x-python",
   "name": "python",
   "nbconvert_exporter": "python",
   "pygments_lexer": "ipython3",
   "version": "3.12.2"
  }
 },
 "nbformat": 4,
 "nbformat_minor": 2
}
